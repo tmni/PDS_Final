{
 "cells": [
  {
   "cell_type": "code",
   "execution_count": 2,
   "metadata": {},
   "outputs": [],
   "source": [
    "#As always, lets start by importing the libraries we need\n",
    "import json    \n",
    "import pandas as pd\n",
    "import matplotlib.pyplot as plt\n",
    "import numpy as np\n",
    "from mpl_toolkits.axes_grid1 import make_axes_locatable\n",
    "\n",
    "#And the tools from Sklearn to do our clustering\n",
    "from sklearn.cluster import KMeans\n",
    "from sklearn.mixture import GaussianMixture\n",
    "from sklearn.metrics import silhouette_samples, silhouette_score\n",
    "from sklearn.metrics import mean_squared_error\n",
    "\n",
    "from scipy.sparse import csr_matrix\n",
    "\n",
    "from datetime import datetime\n",
    "\n",
    "\n",
    "#To make things cleaner, lets also not display all the warnings\n",
    "import warnings\n",
    "warnings.filterwarnings('ignore')"
   ]
  },
  {
   "cell_type": "code",
   "execution_count": 3,
   "metadata": {},
   "outputs": [
    {
     "ename": "FileNotFoundError",
     "evalue": "[Errno 2] No such file or directory: 'business.json'",
     "output_type": "error",
     "traceback": [
      "\u001b[0;31m---------------------------------------------------------------------------\u001b[0m",
      "\u001b[0;31mFileNotFoundError\u001b[0m                         Traceback (most recent call last)",
      "\u001b[0;32m<ipython-input-3-b27084cb16c3>\u001b[0m in \u001b[0;36m<module>\u001b[0;34m\u001b[0m\n\u001b[1;32m      1\u001b[0m \u001b[0mbusinesses\u001b[0m \u001b[0;34m=\u001b[0m \u001b[0;34m[\u001b[0m\u001b[0;34m]\u001b[0m\u001b[0;34m\u001b[0m\u001b[0;34m\u001b[0m\u001b[0m\n\u001b[0;32m----> 2\u001b[0;31m \u001b[0;32mwith\u001b[0m \u001b[0mopen\u001b[0m\u001b[0;34m(\u001b[0m\u001b[0;34m'business.json'\u001b[0m\u001b[0;34m)\u001b[0m \u001b[0;32mas\u001b[0m \u001b[0mf\u001b[0m\u001b[0;34m:\u001b[0m\u001b[0;34m\u001b[0m\u001b[0;34m\u001b[0m\u001b[0m\n\u001b[0m\u001b[1;32m      3\u001b[0m     \u001b[0;32mfor\u001b[0m \u001b[0mline\u001b[0m \u001b[0;32min\u001b[0m \u001b[0mf\u001b[0m\u001b[0;34m:\u001b[0m\u001b[0;34m\u001b[0m\u001b[0;34m\u001b[0m\u001b[0m\n\u001b[1;32m      4\u001b[0m         \u001b[0mbusinesses\u001b[0m\u001b[0;34m.\u001b[0m\u001b[0mappend\u001b[0m\u001b[0;34m(\u001b[0m\u001b[0mjson\u001b[0m\u001b[0;34m.\u001b[0m\u001b[0mloads\u001b[0m\u001b[0;34m(\u001b[0m\u001b[0mline\u001b[0m\u001b[0;34m)\u001b[0m\u001b[0;34m)\u001b[0m\u001b[0;34m\u001b[0m\u001b[0;34m\u001b[0m\u001b[0m\n\u001b[1;32m      5\u001b[0m \u001b[0;34m\u001b[0m\u001b[0m\n",
      "\u001b[0;31mFileNotFoundError\u001b[0m: [Errno 2] No such file or directory: 'business.json'"
     ]
    }
   ],
   "source": [
    "businesses = []\n",
    "with open('business.json') as f:\n",
    "    for line in f:\n",
    "        businesses.append(json.loads(line))\n",
    "        \n",
    "reviews = []\n",
    "with open('review.json') as f:\n",
    "    for line in f:\n",
    "        reviews.append(json.loads(line))\n",
    "        \n",
    "testBusiness = businesses[1]\n",
    "testReview = reviews[1]\n",
    "\n",
    "print(testBusiness)\n",
    "print('')\n",
    "print(testReview)\n"
   ]
  },
  {
   "cell_type": "code",
   "execution_count": null,
   "metadata": {},
   "outputs": [],
   "source": [
    "#Put all data into dataframes \n",
    "\n",
    "review_id = []\n",
    "user_id = []\n",
    "business_id = []\n",
    "stars = []\n",
    "date = []\n",
    "\n",
    "for review in reviews:\n",
    "    review_id.append(review['review_id'])\n",
    "    user_id.append(review['user_id'])\n",
    "    business_id.append(review['business_id'])\n",
    "    stars.append(review['stars'])\n",
    "    date.append(review['date'])\n",
    "\n",
    "ratingsDF = pd.DataFrame({'review_id': review_id,\n",
    "                             'user_id': user_id,\n",
    "                             'business_id': business_id,\n",
    "                         'stars':stars,\n",
    "                         'date':date})\n",
    "ratingsDF"
   ]
  },
  {
   "cell_type": "code",
   "execution_count": null,
   "metadata": {},
   "outputs": [],
   "source": [
    "business_id = []\n",
    "business_name = []\n",
    "business_city = []\n",
    "business_state = []\n",
    "business_catogories = []\n",
    "\n",
    "for business in businesses:\n",
    "    business_id.append(business['business_id'])\n",
    "    business_name.append(business['name'])\n",
    "    business_city.append(business['city'])\n",
    "    business_state.append(business['state'])    \n",
    "    \n",
    "    categories = None\n",
    "    if business['categories'] != None:\n",
    "        categories = \"\"\n",
    "        for category in business['categories']:\n",
    "            categories += category\n",
    "            \n",
    "    business_catogories.append(categories)\n",
    "    \n",
    "businessDF = pd.DataFrame({'business_id': business_id,\n",
    "                           'name': business_name,\n",
    "                             'city': business_city,\n",
    "                             'state': business_state, \n",
    "                          'categories': business_catogories})\n",
    "businessDF"
   ]
  },
  {
   "cell_type": "code",
   "execution_count": null,
   "metadata": {},
   "outputs": [],
   "source": [
    "business_id = []\n",
    "business_name = []\n",
    "business_city = []\n",
    "business_state = []\n",
    "business_catogory_1 = []\n",
    "business_catogory_2 = []\n",
    "business_catogory_3 = []\n",
    "\n",
    "for business in businesses:\n",
    "    business_id.append(business['business_id'])\n",
    "    business_name.append(business['name'])\n",
    "    business_city.append(business['city'])\n",
    "    business_state.append(business['state'])    \n",
    "    \n",
    "    categories = None\n",
    "    \n",
    "    if business['categories'] != None:\n",
    "        categories = business['categories'].split(',')\n",
    "\n",
    "        try:\n",
    "            business_catogory_1.append(categories[0].strip())\n",
    "        except:\n",
    "            business_catogory_1.append(None)\n",
    "\n",
    "        try:\n",
    "            business_catogory_2.append(categories[1].strip())\n",
    "        except:\n",
    "            business_catogory_2.append(None)\n",
    "            \n",
    "        try:\n",
    "            business_catogory_3.append(categories[2].strip())\n",
    "        except:\n",
    "            business_catogory_3.append(None)\n",
    "    else:\n",
    "        business_catogory_1.append(None)\n",
    "        business_catogory_2.append(None)\n",
    "        business_catogory_3.append(None)"
   ]
  },
  {
   "cell_type": "code",
   "execution_count": null,
   "metadata": {},
   "outputs": [],
   "source": [
    "businessDF = pd.DataFrame({'business_id': business_id,\n",
    "                           'name': business_name,\n",
    "                             'city': business_city,\n",
    "                             'state': business_state, \n",
    "                          'category1': business_catogory_1, \n",
    "                          'category2': business_catogory_2,\n",
    "                          'category3': business_catogory_3})\n",
    "businessDF"
   ]
  },
  {
   "cell_type": "code",
   "execution_count": null,
   "metadata": {},
   "outputs": [],
   "source": [
    "ourStates = set(businessDF['state'])\n",
    "ourStates"
   ]
  },
  {
   "cell_type": "code",
   "execution_count": null,
   "metadata": {},
   "outputs": [],
   "source": [
    "import plotly.graph_objects as go\n",
    "\n",
    "# Load data frame and tidy it.\n",
    "import pandas as pd\n",
    "df = pd.read_csv('https://raw.githubusercontent.com/plotly/datasets/master/2011_us_ag_exports.csv')\n",
    "correctStates = set(df['code'])\n",
    "df"
   ]
  },
  {
   "cell_type": "code",
   "execution_count": null,
   "metadata": {},
   "outputs": [],
   "source": [
    "ourRightData = ourStates.intersection(correctStates)\n",
    "len(ourRightData)\n"
   ]
  },
  {
   "cell_type": "code",
   "execution_count": null,
   "metadata": {},
   "outputs": [],
   "source": [
    "business = businessDF[businessDF[\"state\"].isin(ourRightData)]\n",
    "business"
   ]
  },
  {
   "cell_type": "code",
   "execution_count": null,
   "metadata": {},
   "outputs": [],
   "source": [
    "data = ratingsDF.join(business.set_index('business_id'), on='business_id')\n",
    "data = data.dropna()\n",
    "data"
   ]
  },
  {
   "cell_type": "code",
   "execution_count": null,
   "metadata": {},
   "outputs": [],
   "source": [
    "rel = data[['state', 'stars']]\n",
    "rel = rel.groupby('state').agg(['count', 'mean'])\n",
    "rel['state'] = rel.index\n",
    "rel.columns"
   ]
  },
  {
   "cell_type": "code",
   "execution_count": null,
   "metadata": {},
   "outputs": [],
   "source": [
    "fig = go.Figure(data=go.Choropleth(\n",
    "    locations=rel['state'], # Spatial coordinates\n",
    "    z = rel[('stars', 'mean')].astype(float), # Data to be color-coded\n",
    "    locationmode = 'USA-states', # set of locations match entries in `locations`\n",
    "    colorscale = 'Reds',\n",
    "    colorbar_title = \"Average Rating\",\n",
    "))\n",
    "\n",
    "fig.update_layout(\n",
    "    title_text = '2011 US Agriculture Exports by State',\n",
    "    geo_scope='usa', # limite map scope to USA\n",
    ")\n",
    "\n",
    "fig.show()"
   ]
  },
  {
   "cell_type": "code",
   "execution_count": null,
   "metadata": {},
   "outputs": [],
   "source": []
  },
  {
   "cell_type": "code",
   "execution_count": null,
   "metadata": {},
   "outputs": [],
   "source": []
  },
  {
   "cell_type": "code",
   "execution_count": null,
   "metadata": {},
   "outputs": [],
   "source": []
  },
  {
   "cell_type": "code",
   "execution_count": null,
   "metadata": {},
   "outputs": [],
   "source": []
  },
  {
   "cell_type": "code",
   "execution_count": null,
   "metadata": {},
   "outputs": [],
   "source": []
  }
 ],
 "metadata": {
  "kernelspec": {
   "display_name": "Python 3",
   "language": "python",
   "name": "python3"
  },
  "language_info": {
   "codemirror_mode": {
    "name": "ipython",
    "version": 3
   },
   "file_extension": ".py",
   "mimetype": "text/x-python",
   "name": "python",
   "nbconvert_exporter": "python",
   "pygments_lexer": "ipython3",
   "version": "3.7.3"
  }
 },
 "nbformat": 4,
 "nbformat_minor": 2
}
