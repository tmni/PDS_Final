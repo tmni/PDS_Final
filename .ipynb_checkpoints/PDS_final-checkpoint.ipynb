{
 "cells": [
  {
   "cell_type": "markdown",
   "metadata": {},
   "source": [
    "# Exploring Food Culture in the United States"
   ]
  },
  {
   "cell_type": "markdown",
   "metadata": {},
   "source": [
    "Food is a huge part of our lives in America. There are websites, TV shows, challenges, careers, even outfits (see Lady Gaga's meat dress) that are centered around food as a culture. As lovers of food, our team has decided to look into data provided by Yelp and and explore what coulf affect food preferences in geographic location, which brings us to our main question we want to ask:\n",
    "\n",
    "\n",
    "<br></br>\n",
    "<h4><center>🍔  Is there <b>interesting patterns </b>to identify food preferences in America?   🍟</center></h4>\n",
    "<br><br>\n",
    "\n",
    "There's actually a lot of speculation on this already, but not many findings published online. By the end of this exploration, we hope to demonstrate the power of data and how it can show both interesting and important information about the food culture in the United States. \n",
    "\n",
    "    \n"
   ]
  },
  {
   "cell_type": "markdown",
   "metadata": {},
   "source": [
    "Let's add the data on population density."
   ]
  },
  {
   "cell_type": "code",
   "execution_count": 7,
   "metadata": {},
   "outputs": [],
   "source": [
    "import pandas as pd\n",
    "\n",
    "pop_data = pd.read_csv(\"Population data/pop_density.csv\", header=3)\n",
    "pol_data = pd.read_csv(\"political_data/1976-2018-senate.csv\", encoding='utf-8')\n",
    "\n",
    "race_data_1 = pd.read_csv(\"Population data/stco-mr2010_al_mo.csv\")\n",
    "race_data_2 = pd.read_csv(\"Population data/stco-mr2010_mt_wy.csv\")"
   ]
  },
  {
   "cell_type": "code",
   "execution_count": null,
   "metadata": {},
   "outputs": [],
   "source": []
  },
  {
   "cell_type": "code",
   "execution_count": null,
   "metadata": {},
   "outputs": [],
   "source": []
  }
 ],
 "metadata": {
  "kernelspec": {
   "display_name": "Python 3",
   "language": "python",
   "name": "python3"
  },
  "language_info": {
   "codemirror_mode": {
    "name": "ipython",
    "version": 3
   },
   "file_extension": ".py",
   "mimetype": "text/x-python",
   "name": "python",
   "nbconvert_exporter": "python",
   "pygments_lexer": "ipython3",
   "version": "3.6.3"
  }
 },
 "nbformat": 4,
 "nbformat_minor": 2
}
