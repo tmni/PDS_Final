{
  "nbformat": 4,
  "nbformat_minor": 0,
  "metadata": {
    "kernelspec": {
      "display_name": "Python 3",
      "language": "python",
      "name": "python3"
    },
    "language_info": {
      "codemirror_mode": {
        "name": "ipython",
        "version": 3
      },
      "file_extension": ".py",
      "mimetype": "text/x-python",
      "name": "python",
      "nbconvert_exporter": "python",
      "pygments_lexer": "ipython3",
      "version": "3.6.3"
    },
    "colab": {
      "name": "Collaborative filtering.ipynb",
      "provenance": [],
      "collapsed_sections": []
    }
  },
  "cells": [
    {
      "cell_type": "code",
      "metadata": {
        "id": "cwG9t9SXXsGP",
        "colab_type": "code",
        "colab": {}
      },
      "source": [
        "from fastai.collab import *\n",
        "import pandas as pd\n",
        "import pprint\n",
        "\n",
        "pp = pprint.PrettyPrinter(depth=4)"
      ],
      "execution_count": 0,
      "outputs": []
    },
    {
      "cell_type": "markdown",
      "metadata": {
        "id": "jC5DoX8AX7SY",
        "colab_type": "text"
      },
      "source": [
        "Made with help from https://towardsdatascience.com/collaborative-filtering-with-fastai-3dbdd4ef4f00"
      ]
    },
    {
      "cell_type": "code",
      "metadata": {
        "id": "6vh_FGD7XsGf",
        "colab_type": "code",
        "colab": {}
      },
      "source": [
        "ratings = pd.read_csv('yelpCategoryAverage.csv', header=1)\n"
      ],
      "execution_count": 0,
      "outputs": []
    },
    {
      "cell_type": "code",
      "metadata": {
        "id": "Dpt3vKyFX2wb",
        "colab_type": "code",
        "colab": {}
      },
      "source": [
        "# ratings.columns\n",
        "# new_ratings = pd.DataFrame\n",
        "categories = list(ratings.columns)\n",
        "categories.remove('state')\n",
        "states = list(ratings['state'])\n",
        "# print(states)\n",
        "\n",
        "data = {\"state\": [], \"cat\": [], \"rating\": []}\n",
        "\n",
        "\n",
        "for state in states:\n",
        "    for cat in categories:\n",
        "        data[\"cat\"].append(cat)\n",
        "        data[\"state\"].append(state)\n",
        "        # print(ratings.loc[ratings[\"state\"] == state, cat])\n",
        "        data[\"rating\"].append( ratings.loc[ratings[\"state\"] == state, cat].iloc[0] )\n",
        "\n",
        "new_ratings = pd.DataFrame(data)"
      ],
      "execution_count": 0,
      "outputs": []
    },
    {
      "cell_type": "markdown",
      "metadata": {
        "id": "T4QCjXveh6co",
        "colab_type": "text"
      },
      "source": [
        "Let's test this out for a specific state."
      ]
    },
    {
      "cell_type": "code",
      "metadata": {
        "id": "G6GqDOA3X2PS",
        "colab_type": "code",
        "colab": {
          "base_uri": "https://localhost:8080/",
          "height": 402
        },
        "outputId": "42fbf4da-958c-49ef-976f-0ce7212bd276"
      },
      "source": [
        "new_ratings.loc[new_ratings['state'] == 'OH']"
      ],
      "execution_count": 35,
      "outputs": [
        {
          "output_type": "execute_result",
          "data": {
            "text/html": [
              "<div>\n",
              "<style scoped>\n",
              "    .dataframe tbody tr th:only-of-type {\n",
              "        vertical-align: middle;\n",
              "    }\n",
              "\n",
              "    .dataframe tbody tr th {\n",
              "        vertical-align: top;\n",
              "    }\n",
              "\n",
              "    .dataframe thead th {\n",
              "        text-align: right;\n",
              "    }\n",
              "</style>\n",
              "<table border=\"1\" class=\"dataframe\">\n",
              "  <thead>\n",
              "    <tr style=\"text-align: right;\">\n",
              "      <th></th>\n",
              "      <th>state</th>\n",
              "      <th>cat</th>\n",
              "      <th>rating</th>\n",
              "    </tr>\n",
              "  </thead>\n",
              "  <tbody>\n",
              "    <tr>\n",
              "      <th>2583</th>\n",
              "      <td>OH</td>\n",
              "      <td>Afghan</td>\n",
              "      <td>4.320896</td>\n",
              "    </tr>\n",
              "    <tr>\n",
              "      <th>2584</th>\n",
              "      <td>OH</td>\n",
              "      <td>African</td>\n",
              "      <td>3.578397</td>\n",
              "    </tr>\n",
              "    <tr>\n",
              "      <th>2585</th>\n",
              "      <td>OH</td>\n",
              "      <td>American (New)</td>\n",
              "      <td>0.000000</td>\n",
              "    </tr>\n",
              "    <tr>\n",
              "      <th>2586</th>\n",
              "      <td>OH</td>\n",
              "      <td>American (Traditional)</td>\n",
              "      <td>0.000000</td>\n",
              "    </tr>\n",
              "    <tr>\n",
              "      <th>2587</th>\n",
              "      <td>OH</td>\n",
              "      <td>Arabian</td>\n",
              "      <td>4.315789</td>\n",
              "    </tr>\n",
              "    <tr>\n",
              "      <th>...</th>\n",
              "      <td>...</td>\n",
              "      <td>...</td>\n",
              "      <td>...</td>\n",
              "    </tr>\n",
              "    <tr>\n",
              "      <th>2701</th>\n",
              "      <td>OH</td>\n",
              "      <td>Vegetarian</td>\n",
              "      <td>4.040445</td>\n",
              "    </tr>\n",
              "    <tr>\n",
              "      <th>2702</th>\n",
              "      <td>OH</td>\n",
              "      <td>Vietnamese</td>\n",
              "      <td>3.937415</td>\n",
              "    </tr>\n",
              "    <tr>\n",
              "      <th>2703</th>\n",
              "      <td>OH</td>\n",
              "      <td>Waffles</td>\n",
              "      <td>4.007648</td>\n",
              "    </tr>\n",
              "    <tr>\n",
              "      <th>2704</th>\n",
              "      <td>OH</td>\n",
              "      <td>Wraps</td>\n",
              "      <td>3.657298</td>\n",
              "    </tr>\n",
              "    <tr>\n",
              "      <th>2705</th>\n",
              "      <td>OH</td>\n",
              "      <td>Total</td>\n",
              "      <td>392.111137</td>\n",
              "    </tr>\n",
              "  </tbody>\n",
              "</table>\n",
              "<p>123 rows × 3 columns</p>\n",
              "</div>"
            ],
            "text/plain": [
              "     state                     cat      rating\n",
              "2583    OH                  Afghan    4.320896\n",
              "2584    OH                 African    3.578397\n",
              "2585    OH          American (New)    0.000000\n",
              "2586    OH  American (Traditional)    0.000000\n",
              "2587    OH                 Arabian    4.315789\n",
              "...    ...                     ...         ...\n",
              "2701    OH              Vegetarian    4.040445\n",
              "2702    OH              Vietnamese    3.937415\n",
              "2703    OH                 Waffles    4.007648\n",
              "2704    OH                   Wraps    3.657298\n",
              "2705    OH                   Total  392.111137\n",
              "\n",
              "[123 rows x 3 columns]"
            ]
          },
          "metadata": {
            "tags": []
          },
          "execution_count": 35
        }
      ]
    },
    {
      "cell_type": "markdown",
      "metadata": {
        "id": "gOVE6ueiiDlo",
        "colab_type": "text"
      },
      "source": [
        "Now to build the colab Filtering model"
      ]
    },
    {
      "cell_type": "code",
      "metadata": {
        "id": "zlr4QQyfh9Hu",
        "colab_type": "code",
        "colab": {
          "base_uri": "https://localhost:8080/",
          "height": 195
        },
        "outputId": "fbd62ebb-d707-479c-e3f0-d151ca516f04"
      },
      "source": [
        "data = CollabDataBunch.from_df(new_ratings, seed=42, valid_pct=0.1, user_name='state', item_name='cat', rating_name='rating')\n",
        "data.show_batch()"
      ],
      "execution_count": 37,
      "outputs": [
        {
          "output_type": "display_data",
          "data": {
            "text/html": [
              "<table border=\"1\" class=\"dataframe\">\n",
              "  <thead>\n",
              "    <tr style=\"text-align: right;\">\n",
              "      <th>state</th>\n",
              "      <th>cat</th>\n",
              "      <th>target</th>\n",
              "    </tr>\n",
              "  </thead>\n",
              "  <tbody>\n",
              "    <tr>\n",
              "      <td>XGM</td>\n",
              "      <td>Tapas Bars</td>\n",
              "      <td>0.0</td>\n",
              "    </tr>\n",
              "    <tr>\n",
              "      <td>WA</td>\n",
              "      <td>Fish &amp; Chips</td>\n",
              "      <td>0.0</td>\n",
              "    </tr>\n",
              "    <tr>\n",
              "      <td>NE</td>\n",
              "      <td>Hungarian</td>\n",
              "      <td>0.0</td>\n",
              "    </tr>\n",
              "    <tr>\n",
              "      <td>AK</td>\n",
              "      <td>Burgers</td>\n",
              "      <td>0.0</td>\n",
              "    </tr>\n",
              "    <tr>\n",
              "      <td>WI</td>\n",
              "      <td>Latin American</td>\n",
              "      <td>4.052369</td>\n",
              "    </tr>\n",
              "  </tbody>\n",
              "</table>"
            ],
            "text/plain": [
              "<IPython.core.display.HTML object>"
            ]
          },
          "metadata": {
            "tags": []
          }
        }
      ]
    },
    {
      "cell_type": "code",
      "metadata": {
        "id": "aHlENUxdiOp5",
        "colab_type": "code",
        "colab": {}
      },
      "source": [
        ""
      ],
      "execution_count": 0,
      "outputs": []
    }
  ]
}