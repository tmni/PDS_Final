{
 "cells": [
  {
   "cell_type": "markdown",
   "metadata": {},
   "source": [
    "# Exploring Food Culture in the United States"
   ]
  },
  {
   "cell_type": "markdown",
   "metadata": {},
   "source": [
    "Food is a huge part of our lives in America. There are websites, TV shows, challenges, careers, even outfits (see Lady Gaga's meat dress) that are centered around food as a culture. As lovers of food, our team has decided to look into data provided by Yelp and and explore"
   ]
  },
  {
   "cell_type": "markdown",
   "metadata": {},
   "source": [
    "Let's add the data on population density."
   ]
  },
  {
   "cell_type": "code",
   "execution_count": 7,
   "metadata": {},
   "outputs": [],
   "source": [
    "import pandas as pd\n",
    "\n",
    "pop_data = pd.read_csv(\"Population data/pop_density.csv\", header=3)\n",
    "pol_data = pd.read_csv(\"political_data/1976-2018-senate.csv\", encoding='utf-8')\n",
    "\n",
    "race_data_1 = pd.read_csv(\"Population data/stco-mr2010_al_mo.csv\")\n",
    "race_data_2 = pd.read_csv(\"Population data/stco-mr2010_mt_wy.csv\")"
   ]
  },
  {
   "cell_type": "code",
   "execution_count": null,
   "metadata": {},
   "outputs": [],
   "source": []
  },
  {
   "cell_type": "code",
   "execution_count": null,
   "metadata": {},
   "outputs": [],
   "source": []
  }
 ],
 "metadata": {
  "kernelspec": {
   "display_name": "Python 3",
   "language": "python",
   "name": "python3"
  },
  "language_info": {
   "codemirror_mode": {
    "name": "ipython",
    "version": 3
   },
   "file_extension": ".py",
   "mimetype": "text/x-python",
   "name": "python",
   "nbconvert_exporter": "python",
   "pygments_lexer": "ipython3",
   "version": "3.6.3"
  }
 },
 "nbformat": 4,
 "nbformat_minor": 2
}
