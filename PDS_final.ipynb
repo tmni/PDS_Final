{
 "cells": [
  {
   "cell_type": "markdown",
   "metadata": {},
   "source": [
    "<h1><center> Exploring Food Culture in the United States<center></h1>"
   ]
  },
  {
   "cell_type": "markdown",
   "metadata": {},
   "source": [
    "# Introduction"
   ]
  },
  {
   "cell_type": "markdown",
   "metadata": {},
   "source": [
    "Food is a huge part of our lives in America. There are websites, TV shows, challenges, careers, even outfits [(see Lady Gaga's meat dress)](https://mtv.mtvnimages.com/uri/mgid:file:http:shared:mtv.com/news/wp-content/uploads/2015/08/lady-gaga-meat-2-1440794946.jpg?quality=.8&height=1211.2&width=800)\n",
    "that are centered around food as a culture. As lovers of food, our team has decided to look into data provided by Yelp and and explore what could affect food preferences in different geographic location, which brings us to our main question that we want to ask:\n",
    "\n",
    "\n",
    "<br></br>\n",
    "\n",
    "<h4><center>🍔  Is there <b>interesting patterns </b>to identify food preferences in America?   🍟</center></h4>\n",
    "<br><br>\n",
    "There's actually a lot of speculation on this already, but not many findings published online. By the end of this exploration, we hope to demonstrate the power of data and how it can show both interesting and important information about the food culture in the United States. \n",
    "\n",
    "    \n"
   ]
  },
  {
   "cell_type": "markdown",
   "metadata": {},
   "source": [
    "# Gathering Data\n"
   ]
  },
  {
   "cell_type": "markdown",
   "metadata": {},
   "source": [
    "To understand the context of the situation, we researched articles(both academic and non academic) that looked into important factors of food choice, and then gathered data based on these claims. Even though they may not be 100% true, it gave us a good base for data analysis. \n",
    "\n",
    "Several factors were heavily mentioned, such as:\n",
    "- Economic\n",
    "- Cultural\n",
    "- Location\n",
    "- Social\n",
    "- Education\n",
    "\n",
    "After spending a lot of time parsing through data, we decided to look at political and demographic data, which touches upon economic, cultural, and social factors, and separated the data by state."
   ]
  },
  {
   "cell_type": "code",
<<<<<<< HEAD
   "execution_count": 7,
=======
   "execution_count": null,
   "metadata": {},
   "outputs": [],
   "source": []
  },
  {
   "cell_type": "code",
   "execution_count": 8,
>>>>>>> 4f1d7f710f8d7dcee72478cc39706e9b54fdf954
   "metadata": {},
   "outputs": [],
   "source": [
    "import pandas as pd\n",
    "\n",
    "pop_data = pd.read_csv(\"Population data/pop_density.csv\", header=3)\n",
    "pol_data = pd.read_csv(\"political_data/1976-2018-senate.csv\", encoding='utf-8')\n",
    "\n",
    "race_data_1 = pd.read_csv(\"Population data/stco-mr2010_al_mo.csv\")\n",
    "race_data_2 = pd.read_csv(\"Population data/stco-mr2010_mt_wy.csv\")"
   ]
  },
  {
   "cell_type": "code",
   "execution_count": null,
   "metadata": {},
   "outputs": [],
   "source": []
  },
  {
   "cell_type": "markdown",
   "metadata": {},
   "source": [
    "# References\n",
    "\n",
    "### Data sources\n",
    "\n",
    "- https://apps.bea.gov/itable/iTable.cfm?ReqID=70&step=1\n",
    "- https://www.census.gov/2010census/data/apportionment-data-map.html\n",
    "- https://www.census.gov/data/datasets/2010/demo/popest/modified-race-data-2010.html\n",
    "- https://dataverse.harvard.edu/dataset.xhtml?persistentId=doi:10.7910/DVN/PEJ5QU\n",
    "\n",
    "### Libraries\n",
    "- \n",
    "-"
   ]
  },
  {
   "cell_type": "code",
   "execution_count": null,
   "metadata": {},
   "outputs": [],
   "source": []
  }
 ],
 "metadata": {
  "kernelspec": {
   "display_name": "Python 3",
   "language": "python",
   "name": "python3"
  },
  "language_info": {
   "codemirror_mode": {
    "name": "ipython",
    "version": 3
   },
   "file_extension": ".py",
   "mimetype": "text/x-python",
   "name": "python",
   "nbconvert_exporter": "python",
   "pygments_lexer": "ipython3",
   "version": "3.6.3"
  }
 },
 "nbformat": 4,
 "nbformat_minor": 2
}
